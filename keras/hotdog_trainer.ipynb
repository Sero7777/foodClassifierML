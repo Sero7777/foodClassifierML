{
  "nbformat": 4,
  "nbformat_minor": 0,
  "metadata": {
    "colab": {
      "name": "hotdog_trainer.ipynb",
      "provenance": []
    },
    "kernelspec": {
      "name": "python3",
      "display_name": "Python 3"
    },
    "accelerator": "GPU"
  },
  "cells": [
    {
      "cell_type": "code",
      "metadata": {
        "id": "l78abZncaQai",
        "colab_type": "code",
        "outputId": "14051fc7-8204-4a39-fe8d-6267246ae1a3",
        "colab": {
          "base_uri": "https://localhost:8080/",
          "height": 122
        }
      },
      "source": [
        "from google.colab import drive\n",
        "drive.mount('/content/gdrive')"
      ],
      "execution_count": 0,
      "outputs": [
        {
          "output_type": "stream",
          "text": [
            "Go to this URL in a browser: https://accounts.google.com/o/oauth2/auth?client_id=947318989803-6bn6qk8qdgf4n4g3pfee6491hc0brc4i.apps.googleusercontent.com&redirect_uri=urn%3aietf%3awg%3aoauth%3a2.0%3aoob&response_type=code&scope=email%20https%3a%2f%2fwww.googleapis.com%2fauth%2fdocs.test%20https%3a%2f%2fwww.googleapis.com%2fauth%2fdrive%20https%3a%2f%2fwww.googleapis.com%2fauth%2fdrive.photos.readonly%20https%3a%2f%2fwww.googleapis.com%2fauth%2fpeopleapi.readonly\n",
            "\n",
            "Enter your authorization code:\n",
            "··········\n",
            "Mounted at /content/gdrive\n"
          ],
          "name": "stdout"
        }
      ]
    },
    {
      "cell_type": "code",
      "metadata": {
        "id": "xA16nZ9SaXPq",
        "colab_type": "code",
        "colab": {}
      },
      "source": [
        "!cp -r '/content/gdrive/My Drive/dataset' data/"
      ],
      "execution_count": 0,
      "outputs": []
    },
    {
      "cell_type": "code",
      "metadata": {
        "id": "M_nubL8Ajxmy",
        "colab_type": "code",
        "colab": {}
      },
      "source": [
        "#Followed ths guide: udemy.com/course/machinelearning/"
      ],
      "execution_count": 0,
      "outputs": []
    },
    {
      "cell_type": "code",
      "metadata": {
        "id": "eZLdnskKagI4",
        "colab_type": "code",
        "colab": {}
      },
      "source": [
        "#Importing keras\n",
        "from keras.models import Sequential\n",
        "from keras.layers import Conv2D\n",
        "from keras.layers import MaxPooling2D\n",
        "from keras.layers import Flatten\n",
        "from keras.layers import Dense, Dropout"
      ],
      "execution_count": 0,
      "outputs": []
    },
    {
      "cell_type": "code",
      "metadata": {
        "id": "p3TrK4xhanvy",
        "colab_type": "code",
        "colab": {}
      },
      "source": [
        "# Initialising the CNN\n",
        "classifier = Sequential()"
      ],
      "execution_count": 0,
      "outputs": []
    },
    {
      "cell_type": "code",
      "metadata": {
        "id": "Jfp1-PU6a8I3",
        "colab_type": "code",
        "colab": {}
      },
      "source": [
        "#Add first Convolutional Layer\n",
        "classifier.add(Conv2D(128, (3,3), input_shape = (64,64,3), activation='relu'))\n",
        "#Apply Pooling\n",
        "classifier.add(MaxPooling2D(pool_size=(2,2)))\n",
        "\n",
        "classifier.add(Conv2D(128, (3,3), activation='relu'))\n",
        "classifier.add(MaxPooling2D(pool_size=(2,2)))\n",
        "classifier.add(Conv2D(128, (3,3), activation='relu'))\n",
        "classifier.add(MaxPooling2D(pool_size=(2,2)))"
      ],
      "execution_count": 0,
      "outputs": []
    },
    {
      "cell_type": "code",
      "metadata": {
        "id": "MTGrfeuxbAW5",
        "colab_type": "code",
        "colab": {}
      },
      "source": [
        "#Flattening\n",
        "classifier.add(Flatten())"
      ],
      "execution_count": 0,
      "outputs": []
    },
    {
      "cell_type": "code",
      "metadata": {
        "id": "wKK87pR3bChk",
        "colab_type": "code",
        "colab": {}
      },
      "source": [
        "#Full Connection\n",
        "classifier.add(Dense(units=256, activation='relu'))\n",
        "#Added Dropout\n",
        "classifier.add(Dropout(0.5))\n",
        "classifier.add(Dense(units=1, activation='sigmoid'))"
      ],
      "execution_count": 0,
      "outputs": []
    },
    {
      "cell_type": "code",
      "metadata": {
        "id": "9Xw3WQfvbJuQ",
        "colab_type": "code",
        "colab": {}
      },
      "source": [
        "classifier.compile(optimizer='Adadelta', loss= 'binary_crossentropy', metrics=['accuracy'])"
      ],
      "execution_count": 0,
      "outputs": []
    },
    {
      "cell_type": "code",
      "metadata": {
        "id": "k1NKEJf6bNol",
        "colab_type": "code",
        "colab": {}
      },
      "source": [
        "#Data Augmentation\n",
        "from keras.preprocessing.image import ImageDataGenerator\n",
        "train_datagen = ImageDataGenerator(rescale= 1./255,\n",
        "                                   channel_shift_range = 100,\n",
        "                                   rotation_range = 20,\n",
        "                                   width_shift_range = 0.2,\n",
        "                                   height_shift_range = 0.2,\n",
        "                                   brightness_range = [0.8,1.2],\n",
        "                                   shear_range = 0.3,\n",
        "                                   zoom_range = 0.3,\n",
        "                                   horizontal_flip=True,\n",
        "                                   vertical_flip=True\n",
        ")"
      ],
      "execution_count": 0,
      "outputs": []
    },
    {
      "cell_type": "code",
      "metadata": {
        "id": "X5gSWtvjbev9",
        "colab_type": "code",
        "colab": {}
      },
      "source": [
        "test_datagen = ImageDataGenerator(rescale = 1./255)"
      ],
      "execution_count": 0,
      "outputs": []
    },
    {
      "cell_type": "code",
      "metadata": {
        "id": "Vlebp4zkbhlG",
        "colab_type": "code",
        "outputId": "0999b838-0428-4054-b8c0-3cee8e1f0c22",
        "colab": {
          "base_uri": "https://localhost:8080/",
          "height": 34
        }
      },
      "source": [
        "#Loading Training set with data augmentation applied\n",
        "training_set = train_datagen.flow_from_directory('/content/data/hotdogs/train',\n",
        "                                                target_size = (64,64),\n",
        "                                                batch_size =32,\n",
        "                                                class_mode = 'binary')"
      ],
      "execution_count": 0,
      "outputs": [
        {
          "output_type": "stream",
          "text": [
            "Found 1502 images belonging to 2 classes.\n"
          ],
          "name": "stdout"
        }
      ]
    },
    {
      "cell_type": "code",
      "metadata": {
        "id": "cRALA26ObnHf",
        "colab_type": "code",
        "outputId": "384dc385-6961-4987-d159-76b5da43a905",
        "colab": {
          "base_uri": "https://localhost:8080/",
          "height": 34
        }
      },
      "source": [
        "#Loading Training set with data augmentation applied\n",
        "test_set = test_datagen.flow_from_directory('/content/data/hotdogs/test',\n",
        "                                            target_size = (64,64),\n",
        "                                            batch_size= 32,\n",
        "                                            class_mode='binary')"
      ],
      "execution_count": 0,
      "outputs": [
        {
          "output_type": "stream",
          "text": [
            "Found 535 images belonging to 2 classes.\n"
          ],
          "name": "stdout"
        }
      ]
    },
    {
      "cell_type": "code",
      "metadata": {
        "id": "lFePI8dMbsAB",
        "colab_type": "code",
        "outputId": "aafe3e7c-adb0-4a25-81e5-082ffe933e70",
        "colab": {
          "base_uri": "https://localhost:8080/",
          "height": 493
        }
      },
      "source": [
        "loss_history = []\n",
        "classifier.summary()"
      ],
      "execution_count": 0,
      "outputs": [
        {
          "output_type": "stream",
          "text": [
            "Model: \"sequential_2\"\n",
            "_________________________________________________________________\n",
            "Layer (type)                 Output Shape              Param #   \n",
            "=================================================================\n",
            "conv2d_4 (Conv2D)            (None, 62, 62, 128)       3584      \n",
            "_________________________________________________________________\n",
            "max_pooling2d_4 (MaxPooling2 (None, 31, 31, 128)       0         \n",
            "_________________________________________________________________\n",
            "conv2d_5 (Conv2D)            (None, 29, 29, 128)       147584    \n",
            "_________________________________________________________________\n",
            "max_pooling2d_5 (MaxPooling2 (None, 14, 14, 128)       0         \n",
            "_________________________________________________________________\n",
            "conv2d_6 (Conv2D)            (None, 12, 12, 128)       147584    \n",
            "_________________________________________________________________\n",
            "max_pooling2d_6 (MaxPooling2 (None, 6, 6, 128)         0         \n",
            "_________________________________________________________________\n",
            "flatten_2 (Flatten)          (None, 4608)              0         \n",
            "_________________________________________________________________\n",
            "dense_3 (Dense)              (None, 256)               1179904   \n",
            "_________________________________________________________________\n",
            "dropout_2 (Dropout)          (None, 256)               0         \n",
            "_________________________________________________________________\n",
            "dense_4 (Dense)              (None, 1)                 257       \n",
            "=================================================================\n",
            "Total params: 1,478,913\n",
            "Trainable params: 1,478,913\n",
            "Non-trainable params: 0\n",
            "_________________________________________________________________\n"
          ],
          "name": "stdout"
        }
      ]
    },
    {
      "cell_type": "code",
      "metadata": {
        "id": "YcuPWVFwb46q",
        "colab_type": "code",
        "outputId": "d043bdd1-304b-46c0-8117-5632ac147c4c",
        "colab": {
          "base_uri": "https://localhost:8080/",
          "height": 357
        }
      },
      "source": [
        "for i in range(10):\n",
        "  loss_history += [classifier.fit_generator(training_set,\n",
        "                         steps_per_epoch = 1502,\n",
        "                         epochs = 1,\n",
        "                         validation_data = test_set,\n",
        "                         validation_steps = 535)]"
      ],
      "execution_count": 0,
      "outputs": [
        {
          "output_type": "stream",
          "text": [
            "Epoch 1/1\n",
            "1502/1502 [==============================] - 371s 247ms/step - loss: 0.6750 - acc: 0.5711 - val_loss: 0.6205 - val_acc: 0.6675\n",
            "Epoch 1/1\n",
            "1502/1502 [==============================] - 366s 244ms/step - loss: 0.6009 - acc: 0.6754 - val_loss: 0.6292 - val_acc: 0.6821\n",
            "Epoch 1/1\n",
            "1502/1502 [==============================] - 368s 245ms/step - loss: 0.5366 - acc: 0.7278 - val_loss: 0.4633 - val_acc: 0.7904\n",
            "Epoch 1/1\n",
            "1502/1502 [==============================] - 367s 244ms/step - loss: 0.4921 - acc: 0.7576 - val_loss: 0.4784 - val_acc: 0.7632\n",
            "Epoch 1/1\n",
            "1502/1502 [==============================] - 369s 246ms/step - loss: 0.4613 - acc: 0.7809 - val_loss: 0.4192 - val_acc: 0.8262\n",
            "Epoch 1/1\n",
            "1502/1502 [==============================] - 369s 246ms/step - loss: 0.4298 - acc: 0.7983 - val_loss: 0.4396 - val_acc: 0.8132\n",
            "Epoch 1/1\n",
            "1502/1502 [==============================] - 368s 245ms/step - loss: 0.4101 - acc: 0.8095 - val_loss: 0.4552 - val_acc: 0.8239\n",
            "Epoch 1/1\n",
            "1502/1502 [==============================] - 369s 245ms/step - loss: 0.3889 - acc: 0.8216 - val_loss: 0.4347 - val_acc: 0.8355\n",
            "Epoch 1/1\n",
            "1502/1502 [==============================] - 369s 246ms/step - loss: 0.3755 - acc: 0.8294 - val_loss: 0.4576 - val_acc: 0.8301\n",
            "Epoch 1/1\n",
            "1502/1502 [==============================] - 370s 246ms/step - loss: 0.3560 - acc: 0.8403 - val_loss: 0.4329 - val_acc: 0.8358\n"
          ],
          "name": "stdout"
        }
      ]
    },
    {
      "cell_type": "code",
      "metadata": {
        "id": "tAI9UZLZdTKP",
        "colab_type": "code",
        "outputId": "7b2991db-e197-443f-c22a-3eeac4ec6c61",
        "colab": {
          "base_uri": "https://localhost:8080/",
          "height": 584
        }
      },
      "source": [
        "# visualization from:  https://www.kaggle.com/kmader/simple-cnn\n",
        "import matplotlib.pyplot as plt\n",
        "import numpy as np\n",
        "%matplotlib inline\n",
        "\n",
        "epich = np.cumsum(np.concatenate(\n",
        "    [np.linspace(1, 1, len(mh.epoch)) for mh in loss_history]))\n",
        "fig, (ax1, ax2) = plt.subplots(1, 2, figsize=(19, 9))\n",
        "_ = ax1.plot(epich,\n",
        "             np.concatenate([mh.history['loss'] for mh in loss_history]),\n",
        "             'b-',\n",
        "             epich, np.concatenate(\n",
        "        [mh.history['val_loss'] for mh in loss_history]), 'r-')\n",
        "ax1.legend(['Training', 'Validation'])\n",
        "ax1.set_title('Loss')\n",
        "ax1.set_ylabel('Loss')\n",
        "ax1.set_xlabel('Epochs')\n",
        "\n",
        "_ = ax2.plot(epich, np.concatenate(\n",
        "    [mh.history['acc'] for mh in loss_history]), 'b-',\n",
        "                 epich, np.concatenate(\n",
        "        [mh.history['val_acc'] for mh in loss_history]),\n",
        "                 'r-')\n",
        "ax2.legend(['Training', 'Validation'])\n",
        "ax2.set_title('Accuracy')\n",
        "ax2.set_ylabel('Accuracy')\n",
        "ax2.set_xlabel('Epochs')"
      ],
      "execution_count": 0,
      "outputs": [
        {
          "output_type": "execute_result",
          "data": {
            "text/plain": [
              "Text(0.5, 0, 'Epochs')"
            ]
          },
          "metadata": {
            "tags": []
          },
          "execution_count": 29
        },
        {
          "output_type": "display_data",
          "data": {
            "image/png": "[encoded data removed]",
            "text/plain": [
              "<Figure size 1368x648 with 2 Axes>"
            ]
          },
          "metadata": {
            "tags": []
          }
        }
      ]
    },
    {
      "cell_type": "code",
      "metadata": {
        "id": "Pk-Q1DUE3F4J",
        "colab_type": "code",
        "colab": {}
      },
      "source": [
        ""
      ],
      "execution_count": 0,
      "outputs": []
    }
  ]
}