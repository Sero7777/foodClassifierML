{
  "nbformat": 4,
  "nbformat_minor": 0,
  "metadata": {
    "colab": {
      "name": "hotdog_trainer.ipynb",
      "provenance": []
    },
    "kernelspec": {
      "name": "python3",
      "display_name": "Python 3"
    },
    "accelerator": "GPU"
  },
  "cells": [
    {
      "cell_type": "code",
      "metadata": {
        "id": "l78abZncaQai",
        "colab_type": "code",
        "colab": {
          "base_uri": "https://localhost:8080/",
          "height": 122
        },
        "outputId": "2bfb45b6-adea-4ae9-c07f-409805b485e4"
      },
      "source": [
        "from google.colab import drive\n",
        "drive.mount('/content/gdrive')"
      ],
      "execution_count": 1,
      "outputs": [
        {
          "output_type": "stream",
          "text": [
            "Go to this URL in a browser: https://accounts.google.com/o/oauth2/auth?client_id=947318989803-6bn6qk8qdgf4n4g3pfee6491hc0brc4i.apps.googleusercontent.com&redirect_uri=urn%3aietf%3awg%3aoauth%3a2.0%3aoob&response_type=code&scope=email%20https%3a%2f%2fwww.googleapis.com%2fauth%2fdocs.test%20https%3a%2f%2fwww.googleapis.com%2fauth%2fdrive%20https%3a%2f%2fwww.googleapis.com%2fauth%2fdrive.photos.readonly%20https%3a%2f%2fwww.googleapis.com%2fauth%2fpeopleapi.readonly\n",
            "\n",
            "Enter your authorization code:\n",
            "··········\n",
            "Mounted at /content/gdrive\n"
          ],
          "name": "stdout"
        }
      ]
    },
    {
      "cell_type": "code",
      "metadata": {
        "id": "xA16nZ9SaXPq",
        "colab_type": "code",
        "colab": {}
      },
      "source": [
        "!cp -r '/content/gdrive/My Drive/dataset' data/"
      ],
      "execution_count": 0,
      "outputs": []
    },
    {
      "cell_type": "code",
      "metadata": {
        "id": "eZLdnskKagI4",
        "colab_type": "code",
        "colab": {}
      },
      "source": [
        "from keras.models import Sequential\n",
        "from keras.layers import Conv2D\n",
        "from keras.layers import MaxPooling2D\n",
        "from keras.layers import Flatten\n",
        "from keras.layers import Dense, Dropout"
      ],
      "execution_count": 0,
      "outputs": []
    },
    {
      "cell_type": "code",
      "metadata": {
        "id": "p3TrK4xhanvy",
        "colab_type": "code",
        "colab": {}
      },
      "source": [
        "# Initialising the CNN\n",
        "classifier = Sequential()"
      ],
      "execution_count": 0,
      "outputs": []
    },
    {
      "cell_type": "code",
      "metadata": {
        "id": "Jfp1-PU6a8I3",
        "colab_type": "code",
        "colab": {}
      },
      "source": [
        "classifier.add(Conv2D(32, (3,3), input_shape = (64,64,3), activation='relu'))\n",
        "classifier.add(MaxPooling2D(pool_size=(2,2)))\n",
        "classifier.add(Conv2D(32, (3,3), activation='relu'))\n",
        "classifier.add(MaxPooling2D(pool_size=(2,2)))\n",
        "classifier.add(Conv2D(32, (3,3), activation='relu'))\n",
        "classifier.add(MaxPooling2D(pool_size=(2,2)))"
      ],
      "execution_count": 0,
      "outputs": []
    },
    {
      "cell_type": "code",
      "metadata": {
        "id": "MTGrfeuxbAW5",
        "colab_type": "code",
        "colab": {}
      },
      "source": [
        "classifier.add(Flatten())"
      ],
      "execution_count": 0,
      "outputs": []
    },
    {
      "cell_type": "code",
      "metadata": {
        "id": "wKK87pR3bChk",
        "colab_type": "code",
        "colab": {}
      },
      "source": [
        "classifier.add(Dense(units=128, activation='relu'))\n",
        "classifier.add(Dense(units=1, activation='sigmoid'))"
      ],
      "execution_count": 0,
      "outputs": []
    },
    {
      "cell_type": "code",
      "metadata": {
        "id": "9Xw3WQfvbJuQ",
        "colab_type": "code",
        "colab": {}
      },
      "source": [
        "classifier.compile(optimizer='adam', loss= 'binary_crossentropy', metrics=['accuracy'])"
      ],
      "execution_count": 0,
      "outputs": []
    },
    {
      "cell_type": "code",
      "metadata": {
        "id": "k1NKEJf6bNol",
        "colab_type": "code",
        "colab": {}
      },
      "source": [
        "from keras.preprocessing.image import ImageDataGenerator\n",
        "train_datagen = ImageDataGenerator(rescale= 1./255,\n",
        "                                   channel_shift_range = 100,\n",
        "                                   shear_range = 0.2,\n",
        "                                   zoom_range = 0.2,\n",
        "                                   horizontal_flip=True,\n",
        ")"
      ],
      "execution_count": 0,
      "outputs": []
    },
    {
      "cell_type": "code",
      "metadata": {
        "id": "X5gSWtvjbev9",
        "colab_type": "code",
        "colab": {}
      },
      "source": [
        "test_datagen = ImageDataGenerator(rescale = 1./255)"
      ],
      "execution_count": 0,
      "outputs": []
    },
    {
      "cell_type": "code",
      "metadata": {
        "id": "Vlebp4zkbhlG",
        "colab_type": "code",
        "colab": {
          "base_uri": "https://localhost:8080/",
          "height": 34
        },
        "outputId": "e93b318f-0e3d-4b41-82a6-428ba8d29998"
      },
      "source": [
        "training_set = train_datagen.flow_from_directory('/content/data/hotdogs/train',\n",
        "                                                target_size = (64,64),\n",
        "                                                batch_size =32,\n",
        "                                                class_mode = 'binary')"
      ],
      "execution_count": 44,
      "outputs": [
        {
          "output_type": "stream",
          "text": [
            "Found 1502 images belonging to 2 classes.\n"
          ],
          "name": "stdout"
        }
      ]
    },
    {
      "cell_type": "code",
      "metadata": {
        "id": "cRALA26ObnHf",
        "colab_type": "code",
        "colab": {
          "base_uri": "https://localhost:8080/",
          "height": 34
        },
        "outputId": "064feca1-8bcb-44a0-99d9-a109634a0048"
      },
      "source": [
        "test_set = test_datagen.flow_from_directory('/content/data/hotdogs/test',\n",
        "                                            target_size = (64,64),\n",
        "                                            batch_size= 32,\n",
        "                                            class_mode='binary')"
      ],
      "execution_count": 45,
      "outputs": [
        {
          "output_type": "stream",
          "text": [
            "Found 535 images belonging to 2 classes.\n"
          ],
          "name": "stdout"
        }
      ]
    },
    {
      "cell_type": "code",
      "metadata": {
        "id": "lFePI8dMbsAB",
        "colab_type": "code",
        "colab": {
          "base_uri": "https://localhost:8080/",
          "height": 459
        },
        "outputId": "2c88d21d-6331-4565-be76-f37974c40af2"
      },
      "source": [
        "loss_history = []\n",
        "classifier.summary()"
      ],
      "execution_count": 46,
      "outputs": [
        {
          "output_type": "stream",
          "text": [
            "Model: \"sequential_2\"\n",
            "_________________________________________________________________\n",
            "Layer (type)                 Output Shape              Param #   \n",
            "=================================================================\n",
            "conv2d_3 (Conv2D)            (None, 62, 62, 32)        896       \n",
            "_________________________________________________________________\n",
            "max_pooling2d_3 (MaxPooling2 (None, 31, 31, 32)        0         \n",
            "_________________________________________________________________\n",
            "conv2d_4 (Conv2D)            (None, 29, 29, 32)        9248      \n",
            "_________________________________________________________________\n",
            "max_pooling2d_4 (MaxPooling2 (None, 14, 14, 32)        0         \n",
            "_________________________________________________________________\n",
            "conv2d_5 (Conv2D)            (None, 12, 12, 32)        9248      \n",
            "_________________________________________________________________\n",
            "max_pooling2d_5 (MaxPooling2 (None, 6, 6, 32)          0         \n",
            "_________________________________________________________________\n",
            "flatten_2 (Flatten)          (None, 1152)              0         \n",
            "_________________________________________________________________\n",
            "dense_3 (Dense)              (None, 128)               147584    \n",
            "_________________________________________________________________\n",
            "dense_4 (Dense)              (None, 1)                 129       \n",
            "=================================================================\n",
            "Total params: 167,105\n",
            "Trainable params: 167,105\n",
            "Non-trainable params: 0\n",
            "_________________________________________________________________\n"
          ],
          "name": "stdout"
        }
      ]
    },
    {
      "cell_type": "code",
      "metadata": {
        "id": "YcuPWVFwb46q",
        "colab_type": "code",
        "colab": {
          "base_uri": "https://localhost:8080/",
          "height": 357
        },
        "outputId": "3222edc4-9704-4ba2-a948-5aabb155e587"
      },
      "source": [
        "for i in range(10):\n",
        "  loss_history += [classifier.fit_generator(training_set,\n",
        "                         steps_per_epoch = 1502,\n",
        "                         epochs = 1,\n",
        "                         validation_data = test_set,\n",
        "                         validation_steps = 535)]"
      ],
      "execution_count": 47,
      "outputs": [
        {
          "output_type": "stream",
          "text": [
            "Epoch 1/1\n",
            "1502/1502 [==============================] - 328s 219ms/step - loss: 0.5892 - acc: 0.6650 - val_loss: 0.6272 - val_acc: 0.7386\n",
            "Epoch 1/1\n",
            "1502/1502 [==============================] - 331s 220ms/step - loss: 0.2691 - acc: 0.8818 - val_loss: 1.0348 - val_acc: 0.7455\n",
            "Epoch 1/1\n",
            "1502/1502 [==============================] - 328s 218ms/step - loss: 0.0988 - acc: 0.9634 - val_loss: 1.4710 - val_acc: 0.7249\n",
            "Epoch 1/1\n",
            "1502/1502 [==============================] - 327s 218ms/step - loss: 0.0588 - acc: 0.9789 - val_loss: 1.5152 - val_acc: 0.7065\n",
            "Epoch 1/1\n",
            "1502/1502 [==============================] - 329s 219ms/step - loss: 0.0458 - acc: 0.9838 - val_loss: 1.4963 - val_acc: 0.7416\n",
            "Epoch 1/1\n",
            "1502/1502 [==============================] - 329s 219ms/step - loss: 0.0368 - acc: 0.9873 - val_loss: 1.5437 - val_acc: 0.7270\n",
            "Epoch 1/1\n",
            "1502/1502 [==============================] - 326s 217ms/step - loss: 0.0323 - acc: 0.9891 - val_loss: 1.5944 - val_acc: 0.7496\n",
            "Epoch 1/1\n",
            "1502/1502 [==============================] - 325s 216ms/step - loss: 0.0286 - acc: 0.9903 - val_loss: 1.7636 - val_acc: 0.7101\n",
            "Epoch 1/1\n",
            "1502/1502 [==============================] - 326s 217ms/step - loss: 0.0238 - acc: 0.9915 - val_loss: 1.9317 - val_acc: 0.7180\n",
            "Epoch 1/1\n",
            "1502/1502 [==============================] - 323s 215ms/step - loss: 0.0272 - acc: 0.9911 - val_loss: 1.9998 - val_acc: 0.7118\n"
          ],
          "name": "stdout"
        }
      ]
    },
    {
      "cell_type": "code",
      "metadata": {
        "id": "tAI9UZLZdTKP",
        "colab_type": "code",
        "colab": {
          "base_uri": "https://localhost:8080/",
          "height": 587
        },
        "outputId": "87147bb2-5a7d-4a63-f747-6b3421ee7e3d"
      },
      "source": [
        "# visualization from:  https://www.kaggle.com/kmader/simple-cnn\n",
        "import matplotlib.pyplot as plt\n",
        "import numpy as np\n",
        "%matplotlib inline\n",
        "\n",
        "epich = np.cumsum(np.concatenate(\n",
        "    [np.linspace(1, 1, len(mh.epoch)) for mh in loss_history]))\n",
        "fig, (ax1, ax2) = plt.subplots(1, 2, figsize=(19, 9))\n",
        "_ = ax1.plot(epich,\n",
        "             np.concatenate([mh.history['loss'] for mh in loss_history]),\n",
        "             'b-',\n",
        "             epich, np.concatenate(\n",
        "        [mh.history['val_loss'] for mh in loss_history]), 'r-')\n",
        "ax1.legend(['Training', 'Validation'])\n",
        "ax1.set_title('Loss')\n",
        "\n",
        "_ = ax2.plot(epich, np.concatenate(\n",
        "    [mh.history['acc'] for mh in loss_history]), 'b-',\n",
        "                 epich, np.concatenate(\n",
        "        [mh.history['val_acc'] for mh in loss_history]),\n",
        "                 'r-')\n",
        "ax2.legend(['Training', 'Validation'])\n",
        "ax2.set_title('Accuracy')"
      ],
      "execution_count": 48,
      "outputs": [
        {
          "output_type": "stream",
          "text": [
            "10\n"
          ],
          "name": "stdout"
        },
        {
          "output_type": "execute_result",
          "data": {
            "text/plain": [
              "Text(0.5, 1.0, 'Accuracy')"
            ]
          },
          "metadata": {
            "tags": []
          },
          "execution_count": 48
        },
        {
          "output_type": "display_data",
          "data": {
            "image/png": "[encoded data removed]",
            "text/plain": [
              "<Figure size 1368x648 with 2 Axes>"
            ]
          },
          "metadata": {
            "tags": []
          }
        }
      ]
    },
    {
      "cell_type": "code",
      "metadata": {
        "id": "MX1NCIc9djZZ",
        "colab_type": "code",
        "colab": {}
      },
      "source": [
        ""
      ],
      "execution_count": 0,
      "outputs": []
    }
  ]
}